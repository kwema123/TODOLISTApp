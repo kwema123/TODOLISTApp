{
 "cells": [
  {
   "cell_type": "code",
   "execution_count": 93,
   "metadata": {},
   "outputs": [],
   "source": [
    "import pandas as pd\n",
    "import mysql.connector\n",
    "from mysql.connector import Error\n"
   ]
  },
  {
   "cell_type": "code",
   "execution_count": 94,
   "metadata": {},
   "outputs": [],
   "source": [
    "\n",
    "# CSV file path\n",
    "csv_file = 'selected_features_with_target.csv'\n",
    "\n",
    "# MySQL database connection details\n",
    "config = {\n",
    "    'user': 'root',\n",
    "    'password': 'K@minu12',\n",
    "    'host': 'localhost',\n",
    "    'database': 'student_performance',\n",
    "    'raise_on_warnings': True\n",
    "}\n"
   ]
  },
  {
   "cell_type": "code",
   "execution_count": 95,
   "metadata": {},
   "outputs": [
    {
     "name": "stdout",
     "output_type": "stream",
     "text": [
      "Table created successfully\n",
      "Inserted 10 rows successfully\n",
      "MySQL connection is closed\n"
     ]
    }
   ],
   "source": [
    "\n",
    "try:\n",
    "    # Read CSV file into pandas DataFrame\n",
    "    df = pd.read_csv(csv_file)\n",
    "    \n",
    "    # Establish MySQL connection\n",
    "    connection = mysql.connector.connect(**config)\n",
    "    \n",
    "    if connection.is_connected():\n",
    "        cursor = connection.cursor()\n",
    "        \n",
    "        # Create table (if not exists) - CORRECTED\n",
    "        create_table_query = \"\"\"\n",
    "        CREATE TABLE IF NOT EXISTS student_records (\n",
    "            attendance DECIMAL(5,2),\n",
    "            assignment_score DECIMAL(5,2),\n",
    "            midterm_score DECIMAL(5,2),\n",
    "            final_score DECIMAL(5,2),\n",
    "            outstanding_balance INT,\n",
    "            performance VARCHAR(10)\n",
    "        )\n",
    "        \"\"\"  # Removed semicolon and fixed parentheses\n",
    "        \n",
    "        cursor.execute(create_table_query)\n",
    "        print(\"Table created successfully\")\n",
    "        \n",
    "        # Insert data row by row - CORRECTED table name\n",
    "        insert_query = \"\"\"\n",
    "        INSERT INTO student_records\n",
    "        (attendance, assignment_score, midterm_score, final_score, outstanding_balance, performance)\n",
    "        VALUES (%s, %s, %s, %s, %s, %s)\n",
    "        \"\"\"\n",
    "        \n",
    "        # Convert DataFrame to list of tuples\n",
    "        records = [tuple(x) for x in df.to_numpy()]\n",
    "        \n",
    "        # Execute batch insert\n",
    "        cursor.executemany(insert_query, records)\n",
    "        connection.commit()\n",
    "        print(f\"Inserted {len(records)} rows successfully\")\n",
    "        \n",
    "except Error as e:\n",
    "    print(f\"Error while connecting to MySQL: {e}\")\n",
    "    \n",
    "finally:\n",
    "    if 'connection' in locals() and connection.is_connected():\n",
    "        cursor.close()\n",
    "        connection.close()\n",
    "        print(\"MySQL connection is closed\")"
   ]
  }
 ],
 "metadata": {
  "kernelspec": {
   "display_name": "Python 3",
   "language": "python",
   "name": "python3"
  },
  "language_info": {
   "codemirror_mode": {
    "name": "ipython",
    "version": 3
   },
   "file_extension": ".py",
   "mimetype": "text/x-python",
   "name": "python",
   "nbconvert_exporter": "python",
   "pygments_lexer": "ipython3",
   "version": "3.13.1"
  }
 },
 "nbformat": 4,
 "nbformat_minor": 2
}
